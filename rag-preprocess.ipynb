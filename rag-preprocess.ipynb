{
 "cells": [
  {
   "cell_type": "code",
   "execution_count": 20,
   "id": "db0ab4af-9053-4aba-a6fd-bb4c001dff2b",
   "metadata": {},
   "outputs": [],
   "source": [
    "# import section\n",
    "from langchain_community.document_loaders import UnstructuredPDFLoader\n",
    "from langchain_community.document_loaders import OnlinePDFLoader\n",
    "from langchain_text_splitters import RecursiveCharacterTextSplitter\n",
    "from langchain_chroma import Chroma\n",
    "from langchain_community.embeddings import OllamaEmbeddings"
   ]
  },
  {
   "cell_type": "code",
   "execution_count": 21,
   "id": "525e9ad5-fe74-4071-95f8-e27f2a5eae22",
   "metadata": {},
   "outputs": [
    {
     "name": "stdout",
     "output_type": "stream",
     "text": [
      "pdf data loaded...\n"
     ]
    }
   ],
   "source": [
    "# Load local pdf file monopoly.pdf\n",
    "file_path_local='monopoly.pdf'\n",
    "pdf_loader = UnstructuredPDFLoader(file_path=file_path_local)\n",
    "pdf_data = pdf_loader.load()\n",
    "print(\"pdf data loaded...\")"
   ]
  },
  {
   "cell_type": "code",
   "execution_count": 22,
   "id": "5bee18fd-29fd-4f39-b368-6f45b0643a99",
   "metadata": {},
   "outputs": [
    {
     "name": "stdout",
     "output_type": "stream",
     "text": [
      "data chunks created....\n"
     ]
    }
   ],
   "source": [
    "# Chunking of data where chunk_size, chunk_overlap is configurble and defined as per data document & use case\n",
    "text_splitter = RecursiveCharacterTextSplitter(chunk_size=1000, chunk_overlap=50)\n",
    "data_chunks = text_splitter.split_documents(pdf_data)\n",
    "print(\"data chunks created....\")"
   ]
  },
  {
   "cell_type": "code",
   "execution_count": 23,
   "id": "223ec617-711c-4019-be45-582ba084467f",
   "metadata": {},
   "outputs": [
    {
     "name": "stderr",
     "output_type": "stream",
     "text": [
      "OllamaEmbeddings: 100%|█████████████████████████████████████████████████████████████████████████████████████████████████████████████████████████████████████████████████████████| 19/19 [00:45<00:00,  2.42s/it]\n"
     ]
    },
    {
     "data": {
      "text/plain": [
       "<langchain_chroma.vectorstores.Chroma at 0x16227e1f7a0>"
      ]
     },
     "execution_count": 23,
     "metadata": {},
     "output_type": "execute_result"
    }
   ],
   "source": [
    "# Store chunks and embeddings received from ollama embedding model in chroma database\n",
    "# For this example Embedding model is nomic-embed-text\n",
    "Chroma.from_documents(data_chunks,OllamaEmbeddings(model=\"nomic-embed-text\",show_progress=True),persist_directory=\"./chroma_db\", collection_name='local_rag_db')"
   ]
  }
 ],
 "metadata": {
  "kernelspec": {
   "display_name": "Python 3 (ipykernel)",
   "language": "python",
   "name": "python3"
  },
  "language_info": {
   "codemirror_mode": {
    "name": "ipython",
    "version": 3
   },
   "file_extension": ".py",
   "mimetype": "text/x-python",
   "name": "python",
   "nbconvert_exporter": "python",
   "pygments_lexer": "ipython3",
   "version": "3.12.4"
  }
 },
 "nbformat": 4,
 "nbformat_minor": 5
}
