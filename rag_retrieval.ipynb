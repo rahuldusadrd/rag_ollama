{
 "cells": [
  {
   "cell_type": "code",
   "execution_count": 7,
   "id": "f97578d2-a856-47e2-8838-72c0dad6afaf",
   "metadata": {},
   "outputs": [],
   "source": [
    "from ollama import Client\n",
    "from langchain_chroma import Chroma\n",
    "from langchain_community.embeddings import OllamaEmbeddings"
   ]
  },
  {
   "cell_type": "code",
   "execution_count": 8,
   "id": "66f58681",
   "metadata": {},
   "outputs": [
    {
     "name": "stderr",
     "output_type": "stream",
     "text": [
      "OllamaEmbeddings: 100%|██████████| 1/1 [00:02<00:00,  2.58s/it]\n"
     ]
    },
    {
     "name": "stdout",
     "output_type": "stream",
     "text": [
      "[Document(metadata={'source': 'monopoly.pdf'}, page_content='MONOPOLY\\n\\nProperty Trading Game from Parker Brothers\" AGES 8+ 2 to 8 Players Contents: Gameboard, 3 dice, tokens, 32 houses, I 2 hotels, Chance and Community Chest cards, Title Deed cards, play money and a Banker\\'s tray.\\n\\nNow there\\'s a faster way to play MONOPOLY. Choose to play by the classic rules for buying, renting and selling properties or use the Speed Die to get into the action faster. If you\\'ve never played the classic MONOPOLY game, refer to the Classic Rules beginning on the next page. If you already know how to play and want to use the Speed Die, just read the section below for the additional Speed Die rules.\\n\\nSPEED DIE RULES\\n\\nLearnins how to Play with the S ~ e e d Die IS as\\n\\n/ fast as playing with i\\'t.\\n\\n1. When starting the game, hand out an extra $1,000 to each player (two $5005 should work). The game moves fast and you\\'ll need the extra cash to buy and build.'), Document(metadata={'source': 'monopoly.pdf'}, page_content='MONOPOLY\\n\\nProperty Trading Game from Parker Brothers\" AGES 8+ 2 to 8 Players Contents: Gameboard, 3 dice, tokens, 32 houses, I 2 hotels, Chance and Community Chest cards, Title Deed cards, play money and a Banker\\'s tray.\\n\\nNow there\\'s a faster way to play MONOPOLY. Choose to play by the classic rules for buying, renting and selling properties or use the Speed Die to get into the action faster. If you\\'ve never played the classic MONOPOLY game, refer to the Classic Rules beginning on the next page. If you already know how to play and want to use the Speed Die, just read the section below for the additional Speed Die rules.\\n\\nSPEED DIE RULES\\n\\nLearnins how to Play with the S ~ e e d Die IS as\\n\\n/ fast as playing with i\\'t.\\n\\n1. When starting the game, hand out an extra $1,000 to each player (two $5005 should work). The game moves fast and you\\'ll need the extra cash to buy and build.'), Document(metadata={'source': 'monopoly.pdf'}, page_content='MONOPOLY\\n\\nProperty Trading Game from Parker Brothers\" AGES 8+ 2 to 8 Players Contents: Gameboard, 3 dice, tokens, 32 houses, I 2 hotels, Chance and Community Chest cards, Title Deed cards, play money and a Banker\\'s tray.\\n\\nNow there\\'s a faster way to play MONOPOLY. Choose to play by the classic rules for buying, renting and selling properties or use the Speed Die to get into the action faster. If you\\'ve never played the classic MONOPOLY game, refer to the Classic Rules beginning on the next page. If you already know how to play and want to use the Speed Die, just read the section below for the additional Speed Die rules.\\n\\nSPEED DIE RULES\\n\\nLearnins how to Play with the S ~ e e d Die IS as\\n\\n/ fast as playing with i\\'t.\\n\\n1. When starting the game, hand out an extra $1,000 to each player (two $5005 should work). The game moves fast and you\\'ll need the extra cash to buy and build.'), Document(metadata={'source': 'monopoly.pdf'}, page_content='MONOPOLY\\n\\nProperty Trading Game from Parker Brothers\" AGES 8+ 2 to 8 Players Contents: Gameboard, 3 dice, tokens, 32 houses, I 2 hotels, Chance and Community Chest cards, Title Deed cards, play money and a Banker\\'s tray.\\n\\nNow there\\'s a faster way to play MONOPOLY. Choose to play by the classic rules for buying, renting and selling properties or use the Speed Die to get into the action faster. If you\\'ve never played the classic MONOPOLY game, refer to the Classic Rules beginning on the next page. If you already know how to play and want to use the Speed Die, just read the section below for the additional Speed Die rules.\\n\\nSPEED DIE RULES\\n\\nLearnins how to Play with the S ~ e e d Die IS as\\n\\n/ fast as playing with i\\'t.\\n\\n1. When starting the game, hand out an extra $1,000 to each player (two $5005 should work). The game moves fast and you\\'ll need the extra cash to buy and build.')]\n",
      "Monopoly is a \"Property Trading Game\" from Parker Brothers, suitable for players aged 8+.\n"
     ]
    }
   ],
   "source": [
    "ollama_host_url = \"http://localhost:11434\"\n",
    "local_model = \"llama3\"\n",
    "embedding_model = \"nomic-embed-text\"\n",
    "client = Client(host=ollama_host_url)\n",
    "vector_db = Chroma(persist_directory=\"./chroma_db\", embedding_function=OllamaEmbeddings(model=embedding_model, base_url=ollama_host_url,show_progress=True), collection_name=\"local_rag_db\")\n",
    "\n",
    "\n",
    "retriever = vector_db.as_retriever()\n",
    "question = \"What are monopoly rules?\"\n",
    "docs = retriever.invoke(question)\n",
    "print(docs)\n",
    "context = \"\\n\\n\".join(doc.page_content for doc in docs)\n",
    "# RAG prompt\n",
    "formatted_prompt = f\"\"\"Answer the question based ONLY on the following context:\n",
    "{context}\n",
    "Question: {question}\n",
    "\"\"\"\n",
    "\n",
    "response = client.chat(model='llama3',messages=[{'role': 'user', 'content': formatted_prompt}])\n",
    "print(response['message']['content'])"
   ]
  }
 ],
 "metadata": {
  "kernelspec": {
   "display_name": "Python 3 (ipykernel)",
   "language": "python",
   "name": "python3"
  },
  "language_info": {
   "codemirror_mode": {
    "name": "ipython",
    "version": 3
   },
   "file_extension": ".py",
   "mimetype": "text/x-python",
   "name": "python",
   "nbconvert_exporter": "python",
   "pygments_lexer": "ipython3",
   "version": "3.12.4"
  }
 },
 "nbformat": 4,
 "nbformat_minor": 5
}
